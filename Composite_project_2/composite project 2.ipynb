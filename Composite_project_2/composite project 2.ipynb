{
 "cells": [
  {
   "cell_type": "code",
   "execution_count": 1,
   "id": "0bd89767",
   "metadata": {
    "tags": [
     "aa81075c-062f-4de0-b5fe-14c73dc7468e"
    ]
   },
   "outputs": [],
   "source": [
    "import pandas as pd\n",
    "import numpy as np\n",
    "\n",
    "from sqlalchemy import create_engine"
   ]
  },
  {
   "cell_type": "markdown",
   "id": "76b00384",
   "metadata": {},
   "source": [
    "try:\n",
    "    path_to_db = r'C:\\Users\\ihatewindows\\Downloads\\project2\\telecomm_csi.db'\n",
    "except:\n",
    "    path_to_db =\"/datasets/telecomm_csi.db\"\n",
    "    \n",
    "engine = create_engine(f'sqlite:///{path_to_db}', echo = False)"
   ]
  },
  {
   "cell_type": "code",
   "execution_count": 2,
   "id": "ba7504db",
   "metadata": {},
   "outputs": [],
   "source": [
    "#CODE REVIEW\n",
    "import os"
   ]
  },
  {
   "cell_type": "code",
   "execution_count": 3,
   "id": "bd4d5310",
   "metadata": {},
   "outputs": [],
   "source": [
    "#CODE REVIEW\n",
    "if os.path.exists(r'C:\\Users\\ihatewindows\\Downloads\\project2\\telecomm_csi.db'):\n",
    "    path_to_db = r'C:\\Users\\ihatewindows\\Downloads\\project2\\telecomm_csi.db'\n",
    "else:\n",
    "    path_to_db =\"/datasets/telecomm_csi.db\"\n",
    "    \n",
    "engine = create_engine(f'sqlite:///{path_to_db}', echo = False)"
   ]
  },
  {
   "cell_type": "code",
   "execution_count": 4,
   "id": "7260c1ee",
   "metadata": {},
   "outputs": [
    {
     "data": {
      "text/plain": [
       "sqlite:////datasets/telecomm_csi.db"
      ]
     },
     "execution_count": 4,
     "metadata": {},
     "output_type": "execute_result"
    }
   ],
   "source": [
    "engine.url"
   ]
  },
  {
   "cell_type": "code",
   "execution_count": 5,
   "id": "a53f0ffb",
   "metadata": {},
   "outputs": [],
   "source": [
    "query_l = \"\"\"\n",
    "SELECT * FROM location;\n",
    "\"\"\""
   ]
  },
  {
   "cell_type": "code",
   "execution_count": 6,
   "id": "655d41eb",
   "metadata": {},
   "outputs": [
    {
     "data": {
      "text/html": [
       "<div>\n",
       "<style scoped>\n",
       "    .dataframe tbody tr th:only-of-type {\n",
       "        vertical-align: middle;\n",
       "    }\n",
       "\n",
       "    .dataframe tbody tr th {\n",
       "        vertical-align: top;\n",
       "    }\n",
       "\n",
       "    .dataframe thead th {\n",
       "        text-align: right;\n",
       "    }\n",
       "</style>\n",
       "<table border=\"1\" class=\"dataframe\">\n",
       "  <thead>\n",
       "    <tr style=\"text-align: right;\">\n",
       "      <th></th>\n",
       "      <th>location_id</th>\n",
       "      <th>city</th>\n",
       "      <th>country</th>\n",
       "    </tr>\n",
       "  </thead>\n",
       "  <tbody>\n",
       "    <tr>\n",
       "      <th>0</th>\n",
       "      <td>1</td>\n",
       "      <td>Архангельск</td>\n",
       "      <td>Россия</td>\n",
       "    </tr>\n",
       "    <tr>\n",
       "      <th>1</th>\n",
       "      <td>2</td>\n",
       "      <td>Астрахань</td>\n",
       "      <td>Россия</td>\n",
       "    </tr>\n",
       "    <tr>\n",
       "      <th>2</th>\n",
       "      <td>3</td>\n",
       "      <td>Балашиха</td>\n",
       "      <td>Россия</td>\n",
       "    </tr>\n",
       "  </tbody>\n",
       "</table>\n",
       "</div>"
      ],
      "text/plain": [
       "   location_id         city country\n",
       "0            1  Архангельск  Россия\n",
       "1            2    Астрахань  Россия\n",
       "2            3     Балашиха  Россия"
      ]
     },
     "execution_count": 6,
     "metadata": {},
     "output_type": "execute_result"
    }
   ],
   "source": [
    "df_l = pd.read_sql(query_l, engine)\n",
    "df_l.head(3)"
   ]
  },
  {
   "cell_type": "code",
   "execution_count": 7,
   "id": "28872504",
   "metadata": {},
   "outputs": [],
   "source": [
    "query_u = \"\"\"\n",
    "SELECT *\n",
    "FROM user;\n",
    "\"\"\""
   ]
  },
  {
   "cell_type": "code",
   "execution_count": 8,
   "id": "175a07fb",
   "metadata": {},
   "outputs": [
    {
     "data": {
      "text/html": [
       "<div>\n",
       "<style scoped>\n",
       "    .dataframe tbody tr th:only-of-type {\n",
       "        vertical-align: middle;\n",
       "    }\n",
       "\n",
       "    .dataframe tbody tr th {\n",
       "        vertical-align: top;\n",
       "    }\n",
       "\n",
       "    .dataframe thead th {\n",
       "        text-align: right;\n",
       "    }\n",
       "</style>\n",
       "<table border=\"1\" class=\"dataframe\">\n",
       "  <thead>\n",
       "    <tr style=\"text-align: right;\">\n",
       "      <th></th>\n",
       "      <th>user_id</th>\n",
       "      <th>lt_day</th>\n",
       "      <th>age</th>\n",
       "      <th>gender_segment</th>\n",
       "      <th>os_name</th>\n",
       "      <th>cpe_type_name</th>\n",
       "      <th>location_id</th>\n",
       "      <th>age_gr_id</th>\n",
       "      <th>tr_gr_id</th>\n",
       "      <th>lt_gr_id</th>\n",
       "      <th>nps_score</th>\n",
       "    </tr>\n",
       "  </thead>\n",
       "  <tbody>\n",
       "    <tr>\n",
       "      <th>0</th>\n",
       "      <td>A001A2</td>\n",
       "      <td>2320</td>\n",
       "      <td>45.0</td>\n",
       "      <td>1.0</td>\n",
       "      <td>ANDROID</td>\n",
       "      <td>SMARTPHONE</td>\n",
       "      <td>55</td>\n",
       "      <td>5</td>\n",
       "      <td>5</td>\n",
       "      <td>8</td>\n",
       "      <td>10</td>\n",
       "    </tr>\n",
       "    <tr>\n",
       "      <th>1</th>\n",
       "      <td>A001WF</td>\n",
       "      <td>2344</td>\n",
       "      <td>53.0</td>\n",
       "      <td>0.0</td>\n",
       "      <td>ANDROID</td>\n",
       "      <td>SMARTPHONE</td>\n",
       "      <td>21</td>\n",
       "      <td>5</td>\n",
       "      <td>5</td>\n",
       "      <td>8</td>\n",
       "      <td>10</td>\n",
       "    </tr>\n",
       "    <tr>\n",
       "      <th>2</th>\n",
       "      <td>A003Q7</td>\n",
       "      <td>467</td>\n",
       "      <td>57.0</td>\n",
       "      <td>0.0</td>\n",
       "      <td>ANDROID</td>\n",
       "      <td>SMARTPHONE</td>\n",
       "      <td>28</td>\n",
       "      <td>6</td>\n",
       "      <td>9</td>\n",
       "      <td>6</td>\n",
       "      <td>10</td>\n",
       "    </tr>\n",
       "  </tbody>\n",
       "</table>\n",
       "</div>"
      ],
      "text/plain": [
       "  user_id  lt_day   age  gender_segment  os_name cpe_type_name  location_id  \\\n",
       "0  A001A2    2320  45.0             1.0  ANDROID    SMARTPHONE           55   \n",
       "1  A001WF    2344  53.0             0.0  ANDROID    SMARTPHONE           21   \n",
       "2  A003Q7     467  57.0             0.0  ANDROID    SMARTPHONE           28   \n",
       "\n",
       "   age_gr_id  tr_gr_id  lt_gr_id  nps_score  \n",
       "0          5         5         8         10  \n",
       "1          5         5         8         10  \n",
       "2          6         9         6         10  "
      ]
     },
     "execution_count": 8,
     "metadata": {},
     "output_type": "execute_result"
    }
   ],
   "source": [
    "df_u = pd.read_sql(query_u, engine)\n",
    "df_u.head(3)"
   ]
  },
  {
   "cell_type": "code",
   "execution_count": 9,
   "id": "0d0ec4c7",
   "metadata": {},
   "outputs": [],
   "source": [
    "query_ag = \"\"\"\n",
    "SELECT * FROM age_segment;\n",
    "\"\"\""
   ]
  },
  {
   "cell_type": "code",
   "execution_count": 10,
   "id": "a1c6d000",
   "metadata": {},
   "outputs": [
    {
     "data": {
      "text/html": [
       "<div>\n",
       "<style scoped>\n",
       "    .dataframe tbody tr th:only-of-type {\n",
       "        vertical-align: middle;\n",
       "    }\n",
       "\n",
       "    .dataframe tbody tr th {\n",
       "        vertical-align: top;\n",
       "    }\n",
       "\n",
       "    .dataframe thead th {\n",
       "        text-align: right;\n",
       "    }\n",
       "</style>\n",
       "<table border=\"1\" class=\"dataframe\">\n",
       "  <thead>\n",
       "    <tr style=\"text-align: right;\">\n",
       "      <th></th>\n",
       "      <th>age_gr_id</th>\n",
       "      <th>bucket_min</th>\n",
       "      <th>bucket_max</th>\n",
       "      <th>title</th>\n",
       "    </tr>\n",
       "  </thead>\n",
       "  <tbody>\n",
       "    <tr>\n",
       "      <th>0</th>\n",
       "      <td>1</td>\n",
       "      <td>NaN</td>\n",
       "      <td>15.0</td>\n",
       "      <td>01 до 16</td>\n",
       "    </tr>\n",
       "    <tr>\n",
       "      <th>1</th>\n",
       "      <td>2</td>\n",
       "      <td>16.0</td>\n",
       "      <td>24.0</td>\n",
       "      <td>02 16-24</td>\n",
       "    </tr>\n",
       "    <tr>\n",
       "      <th>2</th>\n",
       "      <td>3</td>\n",
       "      <td>25.0</td>\n",
       "      <td>34.0</td>\n",
       "      <td>03 25-34</td>\n",
       "    </tr>\n",
       "  </tbody>\n",
       "</table>\n",
       "</div>"
      ],
      "text/plain": [
       "   age_gr_id  bucket_min  bucket_max     title\n",
       "0          1         NaN        15.0  01 до 16\n",
       "1          2        16.0        24.0  02 16-24\n",
       "2          3        25.0        34.0  03 25-34"
      ]
     },
     "execution_count": 10,
     "metadata": {},
     "output_type": "execute_result"
    }
   ],
   "source": [
    "df_ag = pd.read_sql(query_ag, engine)\n",
    "df_ag.head(3)"
   ]
  },
  {
   "cell_type": "code",
   "execution_count": 11,
   "id": "b449f61e",
   "metadata": {},
   "outputs": [],
   "source": [
    "query_ts = \"\"\"\n",
    "SELECT * FROM traffic_segment;\n",
    "\"\"\""
   ]
  },
  {
   "cell_type": "code",
   "execution_count": 12,
   "id": "4b1b1e8c",
   "metadata": {},
   "outputs": [
    {
     "data": {
      "text/html": [
       "<div>\n",
       "<style scoped>\n",
       "    .dataframe tbody tr th:only-of-type {\n",
       "        vertical-align: middle;\n",
       "    }\n",
       "\n",
       "    .dataframe tbody tr th {\n",
       "        vertical-align: top;\n",
       "    }\n",
       "\n",
       "    .dataframe thead th {\n",
       "        text-align: right;\n",
       "    }\n",
       "</style>\n",
       "<table border=\"1\" class=\"dataframe\">\n",
       "  <thead>\n",
       "    <tr style=\"text-align: right;\">\n",
       "      <th></th>\n",
       "      <th>tr_gr_id</th>\n",
       "      <th>bucket_min</th>\n",
       "      <th>bucket_max</th>\n",
       "      <th>title</th>\n",
       "    </tr>\n",
       "  </thead>\n",
       "  <tbody>\n",
       "    <tr>\n",
       "      <th>0</th>\n",
       "      <td>1</td>\n",
       "      <td>0.00</td>\n",
       "      <td>0.00</td>\n",
       "      <td>01 0</td>\n",
       "    </tr>\n",
       "    <tr>\n",
       "      <th>1</th>\n",
       "      <td>2</td>\n",
       "      <td>0.00</td>\n",
       "      <td>0.01</td>\n",
       "      <td>01 0-0.01</td>\n",
       "    </tr>\n",
       "    <tr>\n",
       "      <th>2</th>\n",
       "      <td>3</td>\n",
       "      <td>0.01</td>\n",
       "      <td>0.10</td>\n",
       "      <td>02 0.01-0.1</td>\n",
       "    </tr>\n",
       "  </tbody>\n",
       "</table>\n",
       "</div>"
      ],
      "text/plain": [
       "   tr_gr_id  bucket_min  bucket_max        title\n",
       "0         1        0.00        0.00         01 0\n",
       "1         2        0.00        0.01    01 0-0.01\n",
       "2         3        0.01        0.10  02 0.01-0.1"
      ]
     },
     "execution_count": 12,
     "metadata": {},
     "output_type": "execute_result"
    }
   ],
   "source": [
    "df_ts = pd.read_sql(query_ts, engine)\n",
    "df_ts.head(3)"
   ]
  },
  {
   "cell_type": "code",
   "execution_count": 13,
   "id": "693188f0",
   "metadata": {},
   "outputs": [],
   "source": [
    "query_ls = \"\"\"\n",
    "SELECT * FROM lifetime_segment;\n",
    "\"\"\""
   ]
  },
  {
   "cell_type": "code",
   "execution_count": 14,
   "id": "80f74739",
   "metadata": {},
   "outputs": [
    {
     "data": {
      "text/html": [
       "<div>\n",
       "<style scoped>\n",
       "    .dataframe tbody tr th:only-of-type {\n",
       "        vertical-align: middle;\n",
       "    }\n",
       "\n",
       "    .dataframe tbody tr th {\n",
       "        vertical-align: top;\n",
       "    }\n",
       "\n",
       "    .dataframe thead th {\n",
       "        text-align: right;\n",
       "    }\n",
       "</style>\n",
       "<table border=\"1\" class=\"dataframe\">\n",
       "  <thead>\n",
       "    <tr style=\"text-align: right;\">\n",
       "      <th></th>\n",
       "      <th>lt_gr_id</th>\n",
       "      <th>bucket_min</th>\n",
       "      <th>bucket_max</th>\n",
       "      <th>title</th>\n",
       "    </tr>\n",
       "  </thead>\n",
       "  <tbody>\n",
       "    <tr>\n",
       "      <th>0</th>\n",
       "      <td>1</td>\n",
       "      <td>1.0</td>\n",
       "      <td>1.0</td>\n",
       "      <td>01 1</td>\n",
       "    </tr>\n",
       "    <tr>\n",
       "      <th>1</th>\n",
       "      <td>2</td>\n",
       "      <td>2.0</td>\n",
       "      <td>2.0</td>\n",
       "      <td>02 2</td>\n",
       "    </tr>\n",
       "    <tr>\n",
       "      <th>2</th>\n",
       "      <td>3</td>\n",
       "      <td>3.0</td>\n",
       "      <td>3.0</td>\n",
       "      <td>03 3</td>\n",
       "    </tr>\n",
       "  </tbody>\n",
       "</table>\n",
       "</div>"
      ],
      "text/plain": [
       "   lt_gr_id  bucket_min  bucket_max title\n",
       "0         1         1.0         1.0  01 1\n",
       "1         2         2.0         2.0  02 2\n",
       "2         3         3.0         3.0  03 3"
      ]
     },
     "execution_count": 14,
     "metadata": {},
     "output_type": "execute_result"
    }
   ],
   "source": [
    "df_ls = pd.read_sql(query_ls, engine)\n",
    "df_ls.head(3)"
   ]
  },
  {
   "cell_type": "code",
   "execution_count": 15,
   "id": "ecddc517",
   "metadata": {},
   "outputs": [],
   "source": [
    "query = \"\"\"\n",
    "SELECT user.user_id, user.lt_day,\n",
    "CASE\n",
    "    WHEN lt_day > 365\n",
    "        THEN 'old_client'\n",
    "    ELSE 'new_client'\n",
    "END AS is_new,\n",
    "       user.age, \n",
    "CASE\n",
    "    WHEN gender_segment = 0 \n",
    "        THEN 'male'\n",
    "    WHEN gender_segment = 1\n",
    "        THEN 'female'\n",
    "    ELSE 'non-binary'\n",
    "END AS gender_segment,\n",
    "       user.os_name,\n",
    "       user.cpe_type_name, location.country, location.city, age_segment.title as age_segment,\n",
    "       traffic_segment.title as traffic_segment, lifetime_segment.title as lifetime_segment, \n",
    "CASE \n",
    "    WHEN nps_score >= 9\n",
    "        THEN 'promoters'\n",
    "    WHEN nps_score >= 7 AND nps_score < 9\n",
    "        THEN 'passives'\n",
    "    ELSE 'detractors'\n",
    "END AS nps_group, \n",
    "    user.nps_score\n",
    "FROM user \n",
    "    INNER JOIN location ON user.location_id = location.location_id\n",
    "    INNER JOIN age_segment ON age_segment.age_gr_id = user.age_gr_id\n",
    "    INNER JOIN traffic_segment ON traffic_segment.tr_gr_id = user.tr_gr_id\n",
    "    INNER JOIN lifetime_segment ON lifetime_segment.lt_gr_id = user.lt_gr_id\n",
    ";\n",
    "\"\"\""
   ]
  },
  {
   "cell_type": "code",
   "execution_count": 16,
   "id": "b5455210",
   "metadata": {},
   "outputs": [
    {
     "data": {
      "text/html": [
       "<div>\n",
       "<style scoped>\n",
       "    .dataframe tbody tr th:only-of-type {\n",
       "        vertical-align: middle;\n",
       "    }\n",
       "\n",
       "    .dataframe tbody tr th {\n",
       "        vertical-align: top;\n",
       "    }\n",
       "\n",
       "    .dataframe thead th {\n",
       "        text-align: right;\n",
       "    }\n",
       "</style>\n",
       "<table border=\"1\" class=\"dataframe\">\n",
       "  <thead>\n",
       "    <tr style=\"text-align: right;\">\n",
       "      <th></th>\n",
       "      <th>user_id</th>\n",
       "      <th>lt_day</th>\n",
       "      <th>is_new</th>\n",
       "      <th>age</th>\n",
       "      <th>gender_segment</th>\n",
       "      <th>os_name</th>\n",
       "      <th>cpe_type_name</th>\n",
       "      <th>country</th>\n",
       "      <th>city</th>\n",
       "      <th>age_segment</th>\n",
       "      <th>traffic_segment</th>\n",
       "      <th>lifetime_segment</th>\n",
       "      <th>nps_group</th>\n",
       "      <th>nps_score</th>\n",
       "    </tr>\n",
       "  </thead>\n",
       "  <tbody>\n",
       "    <tr>\n",
       "      <th>0</th>\n",
       "      <td>A001A2</td>\n",
       "      <td>2320</td>\n",
       "      <td>old_client</td>\n",
       "      <td>45.0</td>\n",
       "      <td>female</td>\n",
       "      <td>ANDROID</td>\n",
       "      <td>SMARTPHONE</td>\n",
       "      <td>Россия</td>\n",
       "      <td>Уфа</td>\n",
       "      <td>05 45-54</td>\n",
       "      <td>04 1-5</td>\n",
       "      <td>08 36+</td>\n",
       "      <td>promoters</td>\n",
       "      <td>10</td>\n",
       "    </tr>\n",
       "    <tr>\n",
       "      <th>1</th>\n",
       "      <td>A001WF</td>\n",
       "      <td>2344</td>\n",
       "      <td>old_client</td>\n",
       "      <td>53.0</td>\n",
       "      <td>male</td>\n",
       "      <td>ANDROID</td>\n",
       "      <td>SMARTPHONE</td>\n",
       "      <td>Россия</td>\n",
       "      <td>Киров</td>\n",
       "      <td>05 45-54</td>\n",
       "      <td>04 1-5</td>\n",
       "      <td>08 36+</td>\n",
       "      <td>promoters</td>\n",
       "      <td>10</td>\n",
       "    </tr>\n",
       "    <tr>\n",
       "      <th>2</th>\n",
       "      <td>A003Q7</td>\n",
       "      <td>467</td>\n",
       "      <td>old_client</td>\n",
       "      <td>57.0</td>\n",
       "      <td>male</td>\n",
       "      <td>ANDROID</td>\n",
       "      <td>SMARTPHONE</td>\n",
       "      <td>Россия</td>\n",
       "      <td>Москва</td>\n",
       "      <td>06 55-64</td>\n",
       "      <td>08 20-25</td>\n",
       "      <td>06 13-24</td>\n",
       "      <td>promoters</td>\n",
       "      <td>10</td>\n",
       "    </tr>\n",
       "  </tbody>\n",
       "</table>\n",
       "</div>"
      ],
      "text/plain": [
       "  user_id  lt_day      is_new   age gender_segment  os_name cpe_type_name  \\\n",
       "0  A001A2    2320  old_client  45.0         female  ANDROID    SMARTPHONE   \n",
       "1  A001WF    2344  old_client  53.0           male  ANDROID    SMARTPHONE   \n",
       "2  A003Q7     467  old_client  57.0           male  ANDROID    SMARTPHONE   \n",
       "\n",
       "  country    city age_segment traffic_segment lifetime_segment  nps_group  \\\n",
       "0  Россия     Уфа    05 45-54          04 1-5           08 36+  promoters   \n",
       "1  Россия   Киров    05 45-54          04 1-5           08 36+  promoters   \n",
       "2  Россия  Москва    06 55-64        08 20-25         06 13-24  promoters   \n",
       "\n",
       "   nps_score  \n",
       "0         10  \n",
       "1         10  \n",
       "2         10  "
      ]
     },
     "execution_count": 16,
     "metadata": {},
     "output_type": "execute_result"
    }
   ],
   "source": [
    "df = pd.read_sql(query, engine)\n",
    "df.head(3)"
   ]
  },
  {
   "cell_type": "code",
   "execution_count": 17,
   "id": "83901cda",
   "metadata": {},
   "outputs": [],
   "source": [
    "df.to_csv(r'C:\\Users\\ihatewindows\\Downloads\\project2\\telecomm_csi_tableau.csv', index=False)"
   ]
  },
  {
   "cell_type": "markdown",
   "id": "06b8cb58",
   "metadata": {},
   "source": [
    "### Укажите ссылку на дашборд на сайте Tableau Public:"
   ]
  },
  {
   "cell_type": "markdown",
   "id": "3f30bca6",
   "metadata": {},
   "source": [
    "https://public.tableau.com/views/project_2_16640174911080/Sheet10?:language=en-US&:display_count=n&:origin=viz_share_link"
   ]
  },
  {
   "cell_type": "markdown",
   "id": "d19b5d4c",
   "metadata": {},
   "source": [
    "### Укажите ссылку на pdf-файл с презентацией:"
   ]
  },
  {
   "cell_type": "markdown",
   "id": "e2b472d0",
   "metadata": {},
   "source": [
    "https://drive.google.com/file/d/15ZXyeCLDqCIwCSWUp5SfvX1OkvwVEOYk/view?usp=sharing"
   ]
  }
 ],
 "metadata": {
  "ExecuteTimeLog": [
   {
    "duration": 752,
    "start_time": "2021-10-03T17:40:52.731Z"
   },
   {
    "duration": 20,
    "start_time": "2021-10-03T17:40:53.486Z"
   },
   {
    "duration": 4,
    "start_time": "2021-10-03T17:41:04.638Z"
   },
   {
    "duration": 461,
    "start_time": "2021-10-03T17:41:04.912Z"
   },
   {
    "duration": 284,
    "start_time": "2021-10-03T17:41:05.376Z"
   },
   {
    "duration": 574,
    "start_time": "2021-10-06T07:55:05.029Z"
   },
   {
    "duration": 6,
    "start_time": "2021-10-06T07:55:05.605Z"
   },
   {
    "duration": 3,
    "start_time": "2021-10-06T07:55:14.685Z"
   },
   {
    "duration": 406,
    "start_time": "2021-10-06T07:55:15.522Z"
   },
   {
    "duration": 67,
    "start_time": "2021-10-06T07:55:15.929Z"
   },
   {
    "duration": 840,
    "start_time": "2021-10-07T07:54:04.647Z"
   },
   {
    "duration": 10,
    "start_time": "2021-10-07T07:54:05.490Z"
   },
   {
    "duration": 4,
    "start_time": "2021-10-07T07:54:05.544Z"
   },
   {
    "duration": 391,
    "start_time": "2021-10-07T07:54:06.237Z"
   },
   {
    "duration": 293,
    "start_time": "2021-10-07T07:54:06.654Z"
   },
   {
    "duration": 566,
    "start_time": "2022-09-24T06:28:05.224Z"
   },
   {
    "duration": 9,
    "start_time": "2022-09-24T06:28:05.791Z"
   },
   {
    "duration": 2,
    "start_time": "2022-09-24T06:28:05.802Z"
   },
   {
    "duration": 579,
    "start_time": "2022-09-24T06:28:05.806Z"
   },
   {
    "duration": 96,
    "start_time": "2022-09-24T06:28:06.387Z"
   },
   {
    "duration": 13,
    "start_time": "2022-09-24T06:31:08.095Z"
   },
   {
    "duration": 2,
    "start_time": "2022-09-24T06:39:53.740Z"
   },
   {
    "duration": 4429,
    "start_time": "2022-09-24T06:40:03.999Z"
   },
   {
    "duration": 3,
    "start_time": "2022-09-24T06:46:16.939Z"
   },
   {
    "duration": 3,
    "start_time": "2022-09-24T06:46:42.119Z"
   },
   {
    "duration": 490,
    "start_time": "2022-09-24T06:46:43.151Z"
   },
   {
    "duration": 3,
    "start_time": "2022-09-24T06:46:44.955Z"
   },
   {
    "duration": 3360,
    "start_time": "2022-09-24T06:46:46.035Z"
   },
   {
    "duration": 3,
    "start_time": "2022-09-24T06:47:28.829Z"
   },
   {
    "duration": 496,
    "start_time": "2022-09-24T06:47:30.024Z"
   },
   {
    "duration": 2,
    "start_time": "2022-09-24T06:47:57.584Z"
   },
   {
    "duration": 494,
    "start_time": "2022-09-24T06:48:10.187Z"
   },
   {
    "duration": 2,
    "start_time": "2022-09-24T06:49:00.468Z"
   },
   {
    "duration": 515,
    "start_time": "2022-09-24T06:49:01.739Z"
   },
   {
    "duration": 490,
    "start_time": "2022-09-24T06:49:11.963Z"
   },
   {
    "duration": 2,
    "start_time": "2022-09-24T07:01:19.866Z"
   },
   {
    "duration": 4687,
    "start_time": "2022-09-24T07:01:35.026Z"
   },
   {
    "duration": 3,
    "start_time": "2022-09-24T07:19:46.927Z"
   },
   {
    "duration": 4563,
    "start_time": "2022-09-24T07:19:47.731Z"
   },
   {
    "duration": 3,
    "start_time": "2022-09-24T07:21:16.373Z"
   },
   {
    "duration": 4878,
    "start_time": "2022-09-24T07:21:17.333Z"
   },
   {
    "duration": 2,
    "start_time": "2022-09-24T07:21:44.714Z"
   },
   {
    "duration": 497,
    "start_time": "2022-09-24T07:21:45.309Z"
   },
   {
    "duration": 3,
    "start_time": "2022-09-24T07:22:43.585Z"
   },
   {
    "duration": 4759,
    "start_time": "2022-09-24T07:22:44.409Z"
   },
   {
    "duration": 3,
    "start_time": "2022-09-24T07:23:09.261Z"
   },
   {
    "duration": 4753,
    "start_time": "2022-09-24T07:23:10.077Z"
   },
   {
    "duration": 2,
    "start_time": "2022-09-24T07:39:35.904Z"
   },
   {
    "duration": 383,
    "start_time": "2022-09-24T07:39:40.708Z"
   },
   {
    "duration": 3,
    "start_time": "2022-09-24T07:40:41.332Z"
   },
   {
    "duration": 567,
    "start_time": "2022-09-24T07:40:41.932Z"
   },
   {
    "duration": 3,
    "start_time": "2022-09-24T07:41:09.763Z"
   },
   {
    "duration": 3696,
    "start_time": "2022-09-24T07:41:10.361Z"
   },
   {
    "duration": 2,
    "start_time": "2022-09-24T07:42:26.661Z"
   },
   {
    "duration": 548,
    "start_time": "2022-09-24T07:42:28.845Z"
   },
   {
    "duration": 3,
    "start_time": "2022-09-24T07:44:46.865Z"
   },
   {
    "duration": 332,
    "start_time": "2022-09-24T07:44:47.514Z"
   },
   {
    "duration": 3,
    "start_time": "2022-09-24T07:46:16.385Z"
   },
   {
    "duration": 556,
    "start_time": "2022-09-24T07:46:17.977Z"
   },
   {
    "duration": 2,
    "start_time": "2022-09-24T07:46:38.489Z"
   },
   {
    "duration": 3740,
    "start_time": "2022-09-24T07:46:39.186Z"
   },
   {
    "duration": 2,
    "start_time": "2022-09-24T07:47:13.897Z"
   },
   {
    "duration": 555,
    "start_time": "2022-09-24T07:47:14.727Z"
   },
   {
    "duration": 3,
    "start_time": "2022-09-24T08:01:59.921Z"
   },
   {
    "duration": 4994,
    "start_time": "2022-09-24T08:02:00.744Z"
   },
   {
    "duration": 3,
    "start_time": "2022-09-24T08:22:59.732Z"
   },
   {
    "duration": 5413,
    "start_time": "2022-09-24T08:23:00.415Z"
   },
   {
    "duration": 521,
    "start_time": "2022-09-24T08:24:13.290Z"
   },
   {
    "duration": 10,
    "start_time": "2022-09-24T08:24:13.813Z"
   },
   {
    "duration": 3,
    "start_time": "2022-09-24T08:24:13.824Z"
   },
   {
    "duration": 503,
    "start_time": "2022-09-24T08:24:13.829Z"
   },
   {
    "duration": 3,
    "start_time": "2022-09-24T08:24:14.334Z"
   },
   {
    "duration": 3770,
    "start_time": "2022-09-24T08:24:14.338Z"
   },
   {
    "duration": 2,
    "start_time": "2022-09-24T08:24:18.111Z"
   },
   {
    "duration": 525,
    "start_time": "2022-09-24T08:24:18.115Z"
   },
   {
    "duration": 3,
    "start_time": "2022-09-24T08:24:18.642Z"
   },
   {
    "duration": 504,
    "start_time": "2022-09-24T08:24:18.647Z"
   },
   {
    "duration": 2,
    "start_time": "2022-09-24T08:24:19.153Z"
   },
   {
    "duration": 509,
    "start_time": "2022-09-24T08:24:19.156Z"
   },
   {
    "duration": 2,
    "start_time": "2022-09-24T08:24:19.667Z"
   },
   {
    "duration": 5670,
    "start_time": "2022-09-24T08:24:19.672Z"
   },
   {
    "duration": 4570,
    "start_time": "2022-09-24T08:24:25.344Z"
   },
   {
    "duration": 564,
    "start_time": "2022-09-24T08:32:22.034Z"
   },
   {
    "duration": 9,
    "start_time": "2022-09-24T08:32:22.600Z"
   },
   {
    "duration": 10,
    "start_time": "2022-09-24T08:32:22.611Z"
   },
   {
    "duration": 544,
    "start_time": "2022-09-24T08:32:22.623Z"
   },
   {
    "duration": 3,
    "start_time": "2022-09-24T08:32:23.169Z"
   },
   {
    "duration": 3737,
    "start_time": "2022-09-24T08:32:23.174Z"
   },
   {
    "duration": 2,
    "start_time": "2022-09-24T08:32:26.913Z"
   },
   {
    "duration": 499,
    "start_time": "2022-09-24T08:32:26.916Z"
   },
   {
    "duration": 3,
    "start_time": "2022-09-24T08:32:27.416Z"
   },
   {
    "duration": 487,
    "start_time": "2022-09-24T08:32:27.421Z"
   },
   {
    "duration": 2,
    "start_time": "2022-09-24T08:32:27.910Z"
   },
   {
    "duration": 513,
    "start_time": "2022-09-24T08:32:27.914Z"
   },
   {
    "duration": 4,
    "start_time": "2022-09-24T08:32:28.429Z"
   },
   {
    "duration": 5687,
    "start_time": "2022-09-24T08:32:28.436Z"
   },
   {
    "duration": 4569,
    "start_time": "2022-09-24T08:32:34.125Z"
   },
   {
    "duration": 4356,
    "start_time": "2022-09-24T08:53:42.596Z"
   },
   {
    "duration": 4282,
    "start_time": "2022-09-24T08:54:26.469Z"
   },
   {
    "duration": 4824,
    "start_time": "2022-09-24T08:55:16.828Z"
   },
   {
    "duration": 501,
    "start_time": "2022-10-04T06:58:08.683Z"
   },
   {
    "duration": 20,
    "start_time": "2022-10-04T06:58:09.186Z"
   },
   {
    "duration": 3,
    "start_time": "2022-10-04T06:58:09.207Z"
   },
   {
    "duration": 424,
    "start_time": "2022-10-04T06:58:09.212Z"
   },
   {
    "duration": 0,
    "start_time": "2022-10-04T06:58:09.638Z"
   },
   {
    "duration": 0,
    "start_time": "2022-10-04T06:58:09.640Z"
   },
   {
    "duration": 0,
    "start_time": "2022-10-04T06:58:09.642Z"
   },
   {
    "duration": 0,
    "start_time": "2022-10-04T06:58:09.643Z"
   },
   {
    "duration": 0,
    "start_time": "2022-10-04T06:58:09.644Z"
   },
   {
    "duration": 0,
    "start_time": "2022-10-04T06:58:09.645Z"
   },
   {
    "duration": 0,
    "start_time": "2022-10-04T06:58:09.646Z"
   },
   {
    "duration": 0,
    "start_time": "2022-10-04T06:58:09.647Z"
   },
   {
    "duration": 0,
    "start_time": "2022-10-04T06:58:09.649Z"
   },
   {
    "duration": 0,
    "start_time": "2022-10-04T06:58:09.650Z"
   },
   {
    "duration": 0,
    "start_time": "2022-10-04T06:58:09.651Z"
   },
   {
    "duration": 553,
    "start_time": "2022-10-04T06:59:36.469Z"
   },
   {
    "duration": 26,
    "start_time": "2022-10-04T06:59:37.024Z"
   },
   {
    "duration": 3,
    "start_time": "2022-10-04T06:59:37.052Z"
   },
   {
    "duration": 399,
    "start_time": "2022-10-04T06:59:37.056Z"
   },
   {
    "duration": 0,
    "start_time": "2022-10-04T06:59:37.457Z"
   },
   {
    "duration": 0,
    "start_time": "2022-10-04T06:59:37.459Z"
   },
   {
    "duration": 0,
    "start_time": "2022-10-04T06:59:37.460Z"
   },
   {
    "duration": 0,
    "start_time": "2022-10-04T06:59:37.461Z"
   },
   {
    "duration": 0,
    "start_time": "2022-10-04T06:59:37.462Z"
   },
   {
    "duration": 0,
    "start_time": "2022-10-04T06:59:37.463Z"
   },
   {
    "duration": 0,
    "start_time": "2022-10-04T06:59:37.464Z"
   },
   {
    "duration": 0,
    "start_time": "2022-10-04T06:59:37.465Z"
   },
   {
    "duration": 0,
    "start_time": "2022-10-04T06:59:37.466Z"
   },
   {
    "duration": 0,
    "start_time": "2022-10-04T06:59:37.467Z"
   },
   {
    "duration": 0,
    "start_time": "2022-10-04T06:59:37.468Z"
   },
   {
    "duration": 8,
    "start_time": "2022-10-04T06:59:53.262Z"
   },
   {
    "duration": 478,
    "start_time": "2022-10-04T07:02:37.823Z"
   },
   {
    "duration": 51,
    "start_time": "2022-10-04T07:02:38.303Z"
   },
   {
    "duration": 0,
    "start_time": "2022-10-04T07:02:38.357Z"
   },
   {
    "duration": 1,
    "start_time": "2022-10-04T07:02:38.358Z"
   },
   {
    "duration": 0,
    "start_time": "2022-10-04T07:02:38.361Z"
   },
   {
    "duration": 0,
    "start_time": "2022-10-04T07:02:38.362Z"
   },
   {
    "duration": 0,
    "start_time": "2022-10-04T07:02:38.364Z"
   },
   {
    "duration": 0,
    "start_time": "2022-10-04T07:02:38.366Z"
   },
   {
    "duration": 0,
    "start_time": "2022-10-04T07:02:38.367Z"
   },
   {
    "duration": 0,
    "start_time": "2022-10-04T07:02:38.369Z"
   },
   {
    "duration": 0,
    "start_time": "2022-10-04T07:02:38.370Z"
   },
   {
    "duration": 0,
    "start_time": "2022-10-04T07:02:38.372Z"
   },
   {
    "duration": 0,
    "start_time": "2022-10-04T07:02:38.374Z"
   },
   {
    "duration": 0,
    "start_time": "2022-10-04T07:02:38.375Z"
   },
   {
    "duration": 0,
    "start_time": "2022-10-04T07:02:38.378Z"
   },
   {
    "duration": 0,
    "start_time": "2022-10-04T07:02:38.379Z"
   },
   {
    "duration": 77,
    "start_time": "2022-10-04T07:02:49.809Z"
   },
   {
    "duration": 3,
    "start_time": "2022-10-04T07:02:58.355Z"
   },
   {
    "duration": 10,
    "start_time": "2022-10-04T07:03:00.345Z"
   },
   {
    "duration": 9,
    "start_time": "2022-10-04T07:03:04.319Z"
   },
   {
    "duration": 501,
    "start_time": "2022-10-04T07:11:38.301Z"
   },
   {
    "duration": 2,
    "start_time": "2022-10-04T07:11:38.805Z"
   },
   {
    "duration": 43,
    "start_time": "2022-10-04T07:11:38.808Z"
   },
   {
    "duration": 8,
    "start_time": "2022-10-04T07:11:38.853Z"
   },
   {
    "duration": 5,
    "start_time": "2022-10-04T07:11:38.863Z"
   },
   {
    "duration": 547,
    "start_time": "2022-10-04T07:11:38.870Z"
   },
   {
    "duration": 3,
    "start_time": "2022-10-04T07:11:39.418Z"
   },
   {
    "duration": 4070,
    "start_time": "2022-10-04T07:11:39.422Z"
   },
   {
    "duration": 3,
    "start_time": "2022-10-04T07:11:43.493Z"
   },
   {
    "duration": 487,
    "start_time": "2022-10-04T07:11:43.497Z"
   },
   {
    "duration": 3,
    "start_time": "2022-10-04T07:11:43.985Z"
   },
   {
    "duration": 464,
    "start_time": "2022-10-04T07:11:43.989Z"
   },
   {
    "duration": 2,
    "start_time": "2022-10-04T07:11:44.455Z"
   },
   {
    "duration": 495,
    "start_time": "2022-10-04T07:11:44.459Z"
   },
   {
    "duration": 3,
    "start_time": "2022-10-04T07:11:44.955Z"
   },
   {
    "duration": 4877,
    "start_time": "2022-10-04T07:11:44.959Z"
   },
   {
    "duration": 4268,
    "start_time": "2022-10-04T07:11:49.837Z"
   }
  ],
  "kernelspec": {
   "display_name": "Python 3 (ipykernel)",
   "language": "python",
   "name": "python3"
  },
  "language_info": {
   "codemirror_mode": {
    "name": "ipython",
    "version": 3
   },
   "file_extension": ".py",
   "mimetype": "text/x-python",
   "name": "python",
   "nbconvert_exporter": "python",
   "pygments_lexer": "ipython3",
   "version": "3.10.9"
  },
  "toc": {
   "base_numbering": 1,
   "nav_menu": {},
   "number_sections": true,
   "sideBar": true,
   "skip_h1_title": true,
   "title_cell": "Table of Contents",
   "title_sidebar": "Contents",
   "toc_cell": false,
   "toc_position": {},
   "toc_section_display": true,
   "toc_window_display": false
  }
 },
 "nbformat": 4,
 "nbformat_minor": 5
}
